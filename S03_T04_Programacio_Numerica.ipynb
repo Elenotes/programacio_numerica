{
 "cells": [
  {
   "cell_type": "markdown",
   "id": "e0a0111b",
   "metadata": {},
   "source": [
    "# S03 T04: Pràctica amb programació numèrica (*NumPy*)"
   ]
  },
  {
   "cell_type": "markdown",
   "id": "29b071bc",
   "metadata": {},
   "source": [
    "---------------------------------------------------------------------------------------"
   ]
  },
  {
   "cell_type": "markdown",
   "id": "883e75b4",
   "metadata": {},
   "source": [
    "### Nivell 1- Exercici 1\n",
    "\n",
    "Crea una funció que donat un Array d’una dimensió, et faci un resum estadístic bàsic de les dades. Si detecta que l’array té més d’una dimensió, ha de mostrar un missatge d’error.\n"
   ]
  },
  {
   "cell_type": "code",
   "execution_count": 1,
   "id": "fc9b201b",
   "metadata": {},
   "outputs": [
    {
     "name": "stdout",
     "output_type": "stream",
     "text": [
      "Escriu el valor màxim que tindrà l'array:6\n",
      "Escriu la quantitat de valors que tindrà l'array:6\n",
      "[5 5 5 1 4 0]\n"
     ]
    }
   ],
   "source": [
    "#imports\n",
    "import numpy as np\n",
    "from numpy import random\n",
    "\n",
    "# creating int random values array from user inputs\n",
    "try:\n",
    "    max_val = int(input(\"Escriu el valor màxim que tindrà l'array:\"))\n",
    "    q = int(input(\"Escriu la quantitat de valors que tindrà l'array:\"))\n",
    "\n",
    "    np_llista = random.randint(max_val, size=(q))\n",
    "    print(np_llista)\n",
    "except ValueError as ve:\n",
    "    print(\"Has d'introduir valors de tipus 'integer': \", ve)"
   ]
  },
  {
   "cell_type": "code",
   "execution_count": 4,
   "id": "2c3b6c45",
   "metadata": {},
   "outputs": [],
   "source": [
    "# function definition\n",
    "def estadistiques(arr):\n",
    "    if arr.ndim > 1:\n",
    "        raise ValueError(\"La matriu té més d'una dimensió.\")\n",
    "    else:\n",
    "        print(\"--- estadistiques bàsiques ---\")\n",
    "        print(\"------------------------------\")\n",
    "        print(\"Shape:\", arr.shape)\n",
    "        print(\"Dimensions:\", arr.ndim)\n",
    "        print(\"Mitjana:\", np.mean(arr))\n",
    "        print(\"Mediana:\", np.median(arr))\n",
    "        print(\"Average:\", np.average(arr))\n",
    "        print(\"Suma dels elements:\", np.sum(arr))\n",
    "        print(\"Valor max:\", np.max(arr))\n",
    "        print(\"Valor min:\", np.min(arr))\n",
    "        print(\"Rang:\", np.ptp(arr))\n",
    "        print(\"Desviació estàndar:\", np.std(arr))\n",
    "        print(\"Coeficient correlació Pearson:\", np.corrcoef(arr))\n",
    "        print(\"Percentil 50:\", np.percentile(arr, 50))\n",
    "        print(\"Histograma:\", np.histogram(arr))\n",
    "        "
   ]
  },
  {
   "cell_type": "code",
   "execution_count": 5,
   "id": "a23d72a6",
   "metadata": {},
   "outputs": [
    {
     "name": "stdout",
     "output_type": "stream",
     "text": [
      "--- estadistiques bàsiques ---\n",
      "------------------------------\n",
      "Shape: (6,)\n",
      "Dimensions: 1\n",
      "Mitjana: 3.3333333333333335\n",
      "Mediana: 4.5\n",
      "Average: 3.3333333333333335\n",
      "Suma dels elements: 20\n",
      "Valor max: 5\n",
      "Valor min: 0\n",
      "Rang: 5\n",
      "Desviació estàndar: 2.0548046676563256\n",
      "Coeficient correlació Pearson: 1.0\n",
      "Percentil 50: 4.5\n",
      "Histograma: (array([1, 0, 1, 0, 0, 0, 0, 0, 1, 3], dtype=int64), array([0. , 0.5, 1. , 1.5, 2. , 2.5, 3. , 3.5, 4. , 4.5, 5. ]))\n"
     ]
    }
   ],
   "source": [
    "# function call\n",
    "estadistiques(np_llista)"
   ]
  },
  {
   "cell_type": "markdown",
   "id": "805cfa92",
   "metadata": {},
   "source": [
    "----------------------------------------------------------------------------"
   ]
  },
  {
   "cell_type": "markdown",
   "id": "607264d9",
   "metadata": {},
   "source": [
    "### Nivell 1 - Exercici 2\n",
    "\n",
    "Crea una funció que et generi un quadrat NxN de nombres aleatoris entre el 0 i el 100."
   ]
  },
  {
   "cell_type": "code",
   "execution_count": 6,
   "id": "8aae5d01",
   "metadata": {},
   "outputs": [],
   "source": [
    "# function v1\n",
    "#the input parameter must be an int\n",
    "def array_NxN(n):\n",
    "    #creating a random array with NxN values\n",
    "    arr = random.randint(101, size = (n,n))\n",
    "    return arr"
   ]
  },
  {
   "cell_type": "code",
   "execution_count": 7,
   "id": "2e4316e1",
   "metadata": {},
   "outputs": [
    {
     "name": "stdout",
     "output_type": "stream",
     "text": [
      "m: [[43 23 78 15 48 30 49]\n",
      " [42 84 17 63 20 41 42]\n",
      " [ 3 83 51 65 35 95 50]\n",
      " [33 17 40 91 10 70 42]\n",
      " [59 75 74 87 12 36 68]\n",
      " [69 40 23 30 22 54 54]\n",
      " [70 85 92 46 33 96 55]]\n"
     ]
    }
   ],
   "source": [
    "#value to pass as parameter to the function\n",
    "num = 7\n",
    "\n",
    "#invoking function v1\n",
    "matriu = array_NxN(num)\n",
    "print(\"m:\",matriu)\n"
   ]
  },
  {
   "cell_type": "markdown",
   "id": "6c48b9fe",
   "metadata": {},
   "source": [
    "________________________________________"
   ]
  },
  {
   "cell_type": "markdown",
   "id": "5c3f0d90",
   "metadata": {},
   "source": [
    "### Nivell 1 - Exercici 3\n",
    "\n",
    "Crea una funció que donada una taula de dues dimensions, et calculi els totals per fila i els totals per columna. \n"
   ]
  },
  {
   "cell_type": "code",
   "execution_count": 138,
   "id": "d7eafa1b",
   "metadata": {},
   "outputs": [],
   "source": [
    "#function total axis\n",
    "#the input parameter must be a 2D array and return 2 lists\n",
    "#rows --> arr.shape[0]\n",
    "#columns --> arr.shape[1]\n",
    "\n",
    "def totals_axis(a):\n",
    "    totals_rows = [] #empty list to save the totals for each row\n",
    "    totals_cols = [] #empty list to save the totals for each column\n",
    "    \n",
    "    #testing if a it's a 2D array\n",
    "    if a.ndim != 2:\n",
    "        print(\"La matriu usada no té dues dimensions!\")\n",
    "    else:\n",
    "        #rows totals\n",
    "        for i in range(a.shape[0]):\n",
    "            r = np.sum(a[i,:])\n",
    "            totals_rows.append(r)\n",
    "\n",
    "        #cols totals\n",
    "        for i in range(a.shape[1]):\n",
    "            c = np.sum(a[:,i])\n",
    "            totals_cols.append(c)\n",
    "            \n",
    "        return totals_rows, totals_cols    \n",
    "    "
   ]
  },
  {
   "cell_type": "code",
   "execution_count": 142,
   "id": "678a97e0",
   "metadata": {},
   "outputs": [
    {
     "name": "stdout",
     "output_type": "stream",
     "text": [
      "Totals de cada fila:  [326, 406, 339, 368, 342, 300, 241]\n",
      "Totals de cada columna:  [301, 378, 279, 364, 392, 311, 297]\n"
     ]
    }
   ],
   "source": [
    "#calling the function\n",
    "files, columnes = totals_axis(matriu)\n",
    "print(\"Totals de cada fila: \", files)\n",
    "print(\"Totals de cada columna: \", columnes)"
   ]
  },
  {
   "cell_type": "markdown",
   "id": "ef5073fa",
   "metadata": {},
   "source": [
    "______________________________________________________________________________________________"
   ]
  },
  {
   "cell_type": "markdown",
   "id": "45f414cc",
   "metadata": {},
   "source": [
    "### Nivell 1 - Exercici 4\n",
    "\n",
    "Implementa manualment una funció que calculi el coeficient de correlació. Informa’t-en sobre els seus usos i interpretació."
   ]
  },
  {
   "cell_type": "markdown",
   "id": "8863bf69",
   "metadata": {},
   "source": [
    "-- **COEFICIENT DE CORRELACIÓ de PEARSON** --\n",
    "\n",
    "El coeficient de correlació de Pearson és un índex que mesura la relació lineal entre dues variables quantitatives.\n",
    "Sempre fluctuarà entre –1 i +1, i indicarà relacions fortes a mida que el  valor  s’acosti  als  extrems.\n",
    "> A  un  núvol  de  punts  aproximadament  lineal  amb  pendent descendent li correspondrà un valor pròxim a –1, i indicarà una relació inversa o negativa.\n",
    "\n",
    "> A  un  núvol  de  punts  aproximadament  lineal  amb  pendent  ascendent  li  correspondrà  un  valor pròxim a +1, i indicarà una relació directa o positiva.\n",
    "\n",
    "> Un valor zero indica absència de relació lineal entre les variables.\n",
    "\n",
    "NO serveix per detectar valors atípics en les dades, i tampoc detecta correctament les relacions curvilínies."
   ]
  },
  {
   "cell_type": "code",
   "execution_count": 68,
   "id": "69a557d9",
   "metadata": {},
   "outputs": [],
   "source": [
    "#function definition\n",
    "def coef_pearson(a1, a2):\n",
    "    try: \n",
    "        #check if the dimension or the lenght ar ok\n",
    "        if a1.ndim != 1 or a2.ndim != 1:\n",
    "             print(\"The inputs must be 1D arrays.\")\n",
    "        elif len(a1) != len(a2):\n",
    "            print(\"The arrays must have the same lenght.\")\n",
    "        else:\n",
    "            num = np.sum((a1-np.mean(a1))*(a2-np.mean(a2)))\n",
    "            denom = np.sqrt(np.sum((a1-np.mean(a1))**2))*np.sqrt(np.sum((a2-np.mean(a2))**2))\n",
    "            resultat = num/denom\n",
    "    \n",
    "            return resultat\n",
    "    except:\n",
    "        print(\"Input error: The inputs must be 1D arrays.\")"
   ]
  },
  {
   "cell_type": "markdown",
   "id": "7cd42cf2",
   "metadata": {},
   "source": [
    "Porvem la funció fet una crida amb diferents valors:"
   ]
  },
  {
   "cell_type": "code",
   "execution_count": 70,
   "id": "32660347",
   "metadata": {},
   "outputs": [
    {
     "name": "stdout",
     "output_type": "stream",
     "text": [
      "0.732355601740743\n"
     ]
    }
   ],
   "source": [
    "#np_x = 3 \n",
    "#np_y = 8 \n",
    "\n",
    "#np_x = np.array([14,1,  146, 418, 220])\n",
    "#np_y = np.array([33, 39, 45])\n",
    "\n",
    "np_x = np.array([14,1,  146, 418, 220])\n",
    "np_y = np.array([24, 30, 33, 39, 45])\n",
    "\n",
    "r = coef_pearson(np_x, np_y)\n",
    "print(r)"
   ]
  },
  {
   "cell_type": "code",
   "execution_count": 71,
   "id": "51028b1b",
   "metadata": {},
   "outputs": [
    {
     "name": "stdout",
     "output_type": "stream",
     "text": [
      "Coeficient correlació Pearson: [[1.        0.7323556]\n",
      " [0.7323556 1.       ]]\n"
     ]
    }
   ],
   "source": [
    "print(\"Coeficient correlació Pearson:\", np.corrcoef(np_x, np_y))"
   ]
  }
 ],
 "metadata": {
  "kernelspec": {
   "display_name": "Python 3",
   "language": "python",
   "name": "python3"
  },
  "language_info": {
   "codemirror_mode": {
    "name": "ipython",
    "version": 3
   },
   "file_extension": ".py",
   "mimetype": "text/x-python",
   "name": "python",
   "nbconvert_exporter": "python",
   "pygments_lexer": "ipython3",
   "version": "3.8.8"
  }
 },
 "nbformat": 4,
 "nbformat_minor": 5
}
