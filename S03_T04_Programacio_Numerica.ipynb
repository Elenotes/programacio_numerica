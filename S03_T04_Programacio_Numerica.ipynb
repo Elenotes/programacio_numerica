{
 "cells": [
  {
   "cell_type": "markdown",
   "id": "e0a0111b",
   "metadata": {},
   "source": [
    "# S03 T04: Pràctica amb programació numèrica (*NumPy*)"
   ]
  },
  {
   "cell_type": "markdown",
   "id": "29b071bc",
   "metadata": {},
   "source": [
    "---------------------------------------------------------------------------------------"
   ]
  },
  {
   "cell_type": "markdown",
   "id": "883e75b4",
   "metadata": {},
   "source": [
    "### Nivell 1- Exercici 1\n",
    "\n",
    "Crea una funció que donat un Array d’una dimensió, et faci un resum estadístic bàsic de les dades. Si detecta que l’array té més d’una dimensió, ha de mostrar un missatge d’error.\n"
   ]
  },
  {
   "cell_type": "code",
   "execution_count": 162,
   "id": "fc9b201b",
   "metadata": {},
   "outputs": [
    {
     "name": "stdout",
     "output_type": "stream",
     "text": [
      "Escriu el valor màxim que tindrà l'array:e\n",
      "Has d'introduir valors de tipus 'integer':  invalid literal for int() with base 10: 'e'\n"
     ]
    }
   ],
   "source": [
    "#imports\n",
    "import numpy as np\n",
    "from numpy import random\n",
    "\n",
    "# creating int random values array from user inputs\n",
    "try:\n",
    "    max_val = int(input(\"Escriu el valor màxim que tindrà l'array:\"))\n",
    "    q = int(input(\"Escriu la quantitat de valors que tindrà l'array:\"))\n",
    "\n",
    "    np_llista = random.randint(max_val, size=(q))\n",
    "    print(np_llista)\n",
    "except ValueError as ve:\n",
    "    print(\"Has d'introduir valors de tipus 'integer': \", ve)"
   ]
  },
  {
   "cell_type": "code",
   "execution_count": 23,
   "id": "2c3b6c45",
   "metadata": {},
   "outputs": [],
   "source": [
    "# function definition\n",
    "def estadistiques(arr):\n",
    "    if arr.ndim > 1:\n",
    "        raise ValueError(\"La matriu té més d'una dimensió.\")\n",
    "    else:\n",
    "        print(\"--- estadistiques bàsiques ---\")\n",
    "        print(\"------------------------------\")\n",
    "        print(\"Shape:\", arr.shape)\n",
    "        print(\"Dimensions:\", arr.ndim)\n",
    "        print(\"Mitjana:\", np.mean(arr))\n",
    "        print(\"Mediana:\", np.median(arr))\n",
    "        print(\"Average:\", np.average(arr))\n",
    "        print(\"Suma dels elements:\", np.sum(arr))\n",
    "        print(\"Valor max:\", np.max(arr))\n",
    "        print(\"Valor min:\", np.min(arr))\n",
    "        print(\"Rang:\", np.ptp(arr))\n",
    "        print(\"Desviació estàndar:\", np.std(arr))\n",
    "        print(\"Coeficient correlació Pearson:\", np.corrcoef(arr))\n",
    "        print(\"Percentil 50:\", np.percentile(arr, 50))\n",
    "        print(\"Histograma:\", np.histogram(arr))\n",
    "        "
   ]
  },
  {
   "cell_type": "code",
   "execution_count": 24,
   "id": "a23d72a6",
   "metadata": {},
   "outputs": [
    {
     "name": "stdout",
     "output_type": "stream",
     "text": [
      "--- estadistiques bàsiques ---\n",
      "------------------------------\n",
      "Shape: (25,)\n",
      "Dimensió: 1\n",
      "Mitjana: 333.68\n",
      "Mediana: 378.0\n",
      "Average: 333.68\n",
      "Suma dels elements: 8342\n",
      "Valor max: 488\n",
      "Valor min: 11\n",
      "Rang: 477\n",
      "Desviació estàndar: 140.91549808307104\n",
      "Coeficient correlació Pearson: 1.0\n",
      "Percentil 50: 378.0\n",
      "Histograma: (array([2, 0, 2, 2, 0, 2, 2, 4, 3, 8], dtype=int64), array([ 11. ,  58.7, 106.4, 154.1, 201.8, 249.5, 297.2, 344.9, 392.6,\n",
      "       440.3, 488. ]))\n"
     ]
    }
   ],
   "source": [
    "# function call\n",
    "estadistiques(np_llista)"
   ]
  },
  {
   "cell_type": "markdown",
   "id": "805cfa92",
   "metadata": {},
   "source": [
    "----------------------------------------------------------------------------"
   ]
  },
  {
   "cell_type": "markdown",
   "id": "607264d9",
   "metadata": {},
   "source": [
    "### Nivell 1 - Exercici 2\n",
    "\n",
    "Crea una funció que et generi un quadrat NxN de nombres aleatoris entre el 0 i el 100."
   ]
  },
  {
   "cell_type": "code",
   "execution_count": 160,
   "id": "8aae5d01",
   "metadata": {},
   "outputs": [],
   "source": [
    "# function v1\n",
    "#the input parameter must be an int\n",
    "def array_NxN(n):\n",
    "    #creating a random array with NxN values\n",
    "    arr = random.randint(101, size = (n,n))\n",
    "    return arr"
   ]
  },
  {
   "cell_type": "code",
   "execution_count": 161,
   "id": "2e4316e1",
   "metadata": {},
   "outputs": [
    {
     "name": "stdout",
     "output_type": "stream",
     "text": [
      "m: [[34 83 86 79 91 93 45]\n",
      " [79 46 26 47 59 86 52]\n",
      " [76 65  4 80  7 69 75]\n",
      " [78 77 64 99 98 20 34]\n",
      " [17 92 58 58 82  1 52]\n",
      " [33 60  2  2 11 69 50]\n",
      " [64 35 64 49 15 42 82]]\n"
     ]
    }
   ],
   "source": [
    "#value to pass as parameter to the function\n",
    "num = 7\n",
    "\n",
    "#invoking function v1\n",
    "matriu = array_NxN(num)\n",
    "print(\"m:\",matriu)\n"
   ]
  },
  {
   "cell_type": "markdown",
   "id": "6c48b9fe",
   "metadata": {},
   "source": [
    "________________________________________"
   ]
  },
  {
   "cell_type": "markdown",
   "id": "5c3f0d90",
   "metadata": {},
   "source": [
    "### Nivell 1 - Exercici 3\n",
    "\n",
    "Crea una funció que donada una taula de dues dimensions, et calculi els totals per fila i els totals per columna. \n"
   ]
  },
  {
   "cell_type": "code",
   "execution_count": 138,
   "id": "d7eafa1b",
   "metadata": {},
   "outputs": [],
   "source": [
    "#function total axis\n",
    "#the input parameter must be a 2D array and return 2 lists\n",
    "#rows --> arr.shape[0]\n",
    "#columns --> arr.shape[1]\n",
    "\n",
    "def totals_axis(a):\n",
    "    totals_rows = [] #empty list to save the totals for each row\n",
    "    totals_cols = [] #empty list to save the totals for each column\n",
    "    \n",
    "    #testing if a it's a 2D array\n",
    "    if a.ndim != 2:\n",
    "        print(\"La matriu usada no té dues dimensions!\")\n",
    "    else:\n",
    "        #rows totals\n",
    "        for i in range(a.shape[0]):\n",
    "            r = np.sum(a[i,:])\n",
    "            totals_rows.append(r)\n",
    "\n",
    "        #cols totals\n",
    "        for i in range(a.shape[1]):\n",
    "            c = np.sum(a[:,i])\n",
    "            totals_cols.append(c)\n",
    "            \n",
    "        return totals_rows, totals_cols    \n",
    "    "
   ]
  },
  {
   "cell_type": "code",
   "execution_count": 142,
   "id": "678a97e0",
   "metadata": {},
   "outputs": [
    {
     "name": "stdout",
     "output_type": "stream",
     "text": [
      "Totals de cada fila:  [326, 406, 339, 368, 342, 300, 241]\n",
      "Totals de cada columna:  [301, 378, 279, 364, 392, 311, 297]\n"
     ]
    }
   ],
   "source": [
    "#calling the function\n",
    "files, columnes = totals_axis(matriu)\n",
    "print(\"Totals de cada fila: \", files)\n",
    "print(\"Totals de cada columna: \", columnes)"
   ]
  },
  {
   "cell_type": "markdown",
   "id": "ef5073fa",
   "metadata": {},
   "source": [
    "______________________________________________________________________________________________"
   ]
  },
  {
   "cell_type": "markdown",
   "id": "45f414cc",
   "metadata": {},
   "source": [
    "### Nivell 1 - Exercici 4\n",
    "\n",
    "Implementa manualment una funció que calculi el coeficient de correlació. Informa’t-en sobre els seus usos i interpretació."
   ]
  },
  {
   "cell_type": "markdown",
   "id": "8863bf69",
   "metadata": {},
   "source": [
    "-- **COEFICIENT DE CORRELACIÓ de PEARSON** --\n",
    "\n",
    "El coeficient de correlació de Pearson és un índex que mesura la relació lineal entre dues variables quantitatives.\n",
    "Sempre fluctuarà entre –1 i +1, i indicarà relacions fortes a mida que el  valor  s’acosti  als  extrems.\n",
    "> A  un  núvol  de  punts  aproximadament  lineal  amb  pendent descendent li correspondrà un valor pròxim a –1, i indicarà una relació inversa o negativa.\n",
    "\n",
    "> A  un  núvol  de  punts  aproximadament  lineal  amb  pendent  ascendent  li  correspondrà  un  valor pròxim a +1, i indicarà una relació directa o positiva.\n",
    "\n",
    "> Un valor zero indica absència de relació lineal entre les variables.\n",
    "\n",
    "NO serveix per detectar valors atípics en les dades, i tampoc detecta correctament les relacions curvilínies."
   ]
  },
  {
   "cell_type": "code",
   "execution_count": 145,
   "id": "51028b1b",
   "metadata": {},
   "outputs": [
    {
     "name": "stdout",
     "output_type": "stream",
     "text": [
      "Coeficient correlació Pearson: [[ 1.         -0.2255972  -0.00485106 -0.33729562 -0.77641334  0.50911457\n",
      "   0.52280445]\n",
      " [-0.2255972   1.         -0.8575741  -0.26010584  0.00133256  0.18480874\n",
      "   0.07158504]\n",
      " [-0.00485106 -0.8575741   1.          0.19229996  0.27473903 -0.38200949\n",
      "  -0.4170928 ]\n",
      " [-0.33729562 -0.26010584  0.19229996  1.         -0.15979029  0.3372842\n",
      "  -0.43758515]\n",
      " [-0.77641334  0.00133256  0.27473903 -0.15979029  1.         -0.75344734\n",
      "  -0.27446917]\n",
      " [ 0.50911457  0.18480874 -0.38200949  0.3372842  -0.75344734  1.\n",
      "   0.34084026]\n",
      " [ 0.52280445  0.07158504 -0.4170928  -0.43758515 -0.27446917  0.34084026\n",
      "   1.        ]]\n"
     ]
    }
   ],
   "source": [
    "print(\"Coeficient correlació Pearson:\", np.corrcoef(matriu))"
   ]
  },
  {
   "cell_type": "code",
   "execution_count": null,
   "id": "e6e2e8b6",
   "metadata": {},
   "outputs": [],
   "source": [
    "def co_correlacio(a):\n",
    "    return np.corrcoef(a)"
   ]
  },
  {
   "cell_type": "code",
   "execution_count": null,
   "id": "14d5808e",
   "metadata": {},
   "outputs": [],
   "source": []
  }
 ],
 "metadata": {
  "kernelspec": {
   "display_name": "Python 3",
   "language": "python",
   "name": "python3"
  },
  "language_info": {
   "codemirror_mode": {
    "name": "ipython",
    "version": 3
   },
   "file_extension": ".py",
   "mimetype": "text/x-python",
   "name": "python",
   "nbconvert_exporter": "python",
   "pygments_lexer": "ipython3",
   "version": "3.8.8"
  }
 },
 "nbformat": 4,
 "nbformat_minor": 5
}
